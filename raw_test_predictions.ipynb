{
 "cells": [
  {
   "cell_type": "code",
   "execution_count": 18,
   "metadata": {},
   "outputs": [],
   "source": [
    "import pandas as pd \n",
    "import numpy as np \n",
    "import torch\n",
    "import matplotlib.pyplot as plt \n",
    "from PIL import Image\n",
    "import os\n",
    "from dotenv import load_dotenv"
   ]
  },
  {
   "cell_type": "code",
   "execution_count": 19,
   "metadata": {},
   "outputs": [
    {
     "name": "stderr",
     "output_type": "stream",
     "text": [
      "Using cache found in /Users/smudge/.cache/torch/hub/ultralytics_yolov5_master\n",
      "YOLOv5 🚀 2023-9-28 Python-3.11.4 torch-2.1.0 MPS\n",
      "\n",
      "Fusing layers... \n",
      "YOLOv5s summary: 157 layers, 7015519 parameters, 0 gradients, 15.8 GFLOPs\n",
      "Adding AutoShape... \n"
     ]
    }
   ],
   "source": [
    "model_1=torch.hub.load(\"ultralytics/yolov5\",'custom',path='best_yolov5_weights.pt',device=torch.device('mps'))"
   ]
  },
  {
   "cell_type": "code",
   "execution_count": 20,
   "metadata": {},
   "outputs": [],
   "source": [
    "#set the env variables\n",
    "load_dotenv('./.env')\n",
    "PATH_TO_TEST=os.getenv(\"PATH_TO_TEST\")"
   ]
  },
  {
   "cell_type": "code",
   "execution_count": 21,
   "metadata": {},
   "outputs": [],
   "source": [
    "#Get the image ids\n",
    "test_ids=os.listdir(PATH_TO_TEST)"
   ]
  },
  {
   "cell_type": "code",
   "execution_count": 22,
   "metadata": {},
   "outputs": [],
   "source": [
    "\n",
    "def get_predictions(img_names,path,aug,model):\n",
    "\n",
    "    model.conf=0.30\n",
    "\n",
    "    pred_scores=dict()\n",
    "    pred_boxes=dict()\n",
    "    pred_classes=dict()\n",
    "\n",
    "    for img in img_names:\n",
    "        if '_' not in img:\n",
    "            img_path=path+img\n",
    "\n",
    "            prediction=model(img_path,size=1024,augment=aug)\n",
    "\n",
    "            pred_scores[img]=list(prediction.xyxy[0][:,4].to(device=torch.device('cpu')).detach().numpy())\n",
    "            pred_boxes[img]=list(prediction.xyxy[0][:,0:4].to(device=torch.device('cpu')).detach().numpy())\n",
    "            pred_classes[img]=list(prediction.xyxy[0][:,5].to(device=torch.device('cpu')).detach().numpy())\n",
    "    \n",
    "    return pred_scores,pred_boxes,pred_classes"
   ]
  },
  {
   "cell_type": "code",
   "execution_count": 23,
   "metadata": {},
   "outputs": [],
   "source": [
    "#get the predictions\n",
    "scores_dict,boxes_dict,_=get_predictions(test_ids,PATH_TO_TEST,aug=False,model=model_1)"
   ]
  },
  {
   "cell_type": "code",
   "execution_count": 24,
   "metadata": {},
   "outputs": [],
   "source": [
    "boxes=list()\n",
    "ids=list()\n",
    "scores=list()\n",
    "\n",
    "for i in boxes_dict.keys():\n",
    "    boxes.append((boxes_dict[i]))\n",
    "    ids.append(i)\n",
    "    scores.append((scores_dict[i]))\n",
    "\n",
    "df=pd.DataFrame({\n",
    "    'image_id':ids,\n",
    "    'boxes':boxes,\n",
    "    'scores':scores\n",
    "})\n",
    "\n",
    "df.to_csv(\"./Results/test_conf_0.30.csv\")"
   ]
  },
  {
   "cell_type": "code",
   "execution_count": null,
   "metadata": {},
   "outputs": [],
   "source": []
  }
 ],
 "metadata": {
  "kernelspec": {
   "display_name": ".venv",
   "language": "python",
   "name": "python3"
  },
  "language_info": {
   "codemirror_mode": {
    "name": "ipython",
    "version": 3
   },
   "file_extension": ".py",
   "mimetype": "text/x-python",
   "name": "python",
   "nbconvert_exporter": "python",
   "pygments_lexer": "ipython3",
   "version": "3.11.4"
  }
 },
 "nbformat": 4,
 "nbformat_minor": 2
}
