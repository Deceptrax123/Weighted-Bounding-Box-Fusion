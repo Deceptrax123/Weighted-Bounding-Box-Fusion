{
 "cells": [
  {
   "cell_type": "code",
   "execution_count": 24,
   "metadata": {},
   "outputs": [],
   "source": [
    "#Part of code taken from https://learnopencv.com/weighted-boxes-fusion/\n",
    "\n",
    "import torch \n",
    "import cv2 \n",
    "import numpy as np \n",
    "import pandas as pd \n",
    "import matplotlib.pyplot as plt \n",
    "from PIL import Image\n",
    "import os\n",
    "from ensemble_boxes import *"
   ]
  },
  {
   "cell_type": "code",
   "execution_count": 19,
   "metadata": {},
   "outputs": [
    {
     "name": "stderr",
     "output_type": "stream",
     "text": [
      "Using cache found in /Users/smudge/.cache/torch/hub/ultralytics_yolov5_master\n",
      "YOLOv5 🚀 2023-9-28 Python-3.11.4 torch-2.1.0 CPU\n",
      "\n",
      "Fusing layers... \n",
      "YOLOv5s summary: 157 layers, 7015519 parameters, 0 gradients, 15.8 GFLOPs\n",
      "Adding AutoShape... \n"
     ]
    }
   ],
   "source": [
    "model=torch.hub.load(\"ultralytics/yolov5\",'custom',path='best_yolov5_weights.pt',device='cpu')\n"
   ]
  },
  {
   "cell_type": "code",
   "execution_count": 20,
   "metadata": {},
   "outputs": [],
   "source": [
    "#set the env variables\n",
    "PATH_TO_TEST='/Volumes/T7 Shield/Smudge/Datasets/Wheat_Head_detection/test/'\n",
    "PATH_TO_INPAINT='/Volumes/T7 Shield/Smudge/Datasets/Wheat_Head_detection/modified_test_set/test_enhanced_inpainting/'\n",
    "PATH_TO_AUTO='/Volumes/T7 Shield/Smudge/Datasets/Wheat_Head_detection/modified_test_set/autoencoder_enhanced/'\n"
   ]
  },
  {
   "cell_type": "code",
   "execution_count": 21,
   "metadata": {},
   "outputs": [],
   "source": [
    "#Get the image ids\n",
    "test_ids=os.listdir(PATH_TO_TEST)\n",
    "inpaint_ids=os.listdir(PATH_TO_INPAINT)\n",
    "auto_ids=os.listdir(PATH_TO_AUTO)"
   ]
  },
  {
   "cell_type": "code",
   "execution_count": 22,
   "metadata": {},
   "outputs": [],
   "source": [
    "#get the predictions\n",
    "model.conf=0.3\n",
    "\n",
    "def get_predictions(img_names,path):\n",
    "    pred_scores=dict()\n",
    "    pred_boxes=dict()\n",
    "    pred_classes=dict()\n",
    "\n",
    "    for img in img_names:\n",
    "        if '_' not in img:\n",
    "            img_path=path+img\n",
    "\n",
    "            prediction=model(img_path)\n",
    "\n",
    "            pred_scores[img]=prediction.xyxy[0][:,4].detach().numpy()\n",
    "            pred_boxes[img]=prediction.xyxy[0][:,0:4].detach().numpy()\n",
    "            pred_classes[img]=prediction.xyxy[0][:,5].detach().numpy()\n",
    "    \n",
    "    return pred_scores,pred_boxes,pred_classes"
   ]
  },
  {
   "cell_type": "code",
   "execution_count": 23,
   "metadata": {},
   "outputs": [],
   "source": [
    "#get predictions for different test sets\n",
    "#Take combinations of 2\n",
    "pred_confs=[]\n",
    "pred_boxes=[]\n",
    "pred_classes=[]\n",
    "\n",
    "test_paths=[PATH_TO_TEST,PATH_TO_INPAINT]\n",
    "test_imgids=[test_ids,inpaint_ids]\n",
    "\n",
    "for i in range(2):\n",
    "    confs_scores,box_preds,cls_pred=get_predictions(test_imgids[i],test_paths[i])\n",
    "\n",
    "    pred_confs.append(confs_scores)\n",
    "    pred_boxes.append(box_preds)\n",
    "    pred_classes.append(cls_pred)"
   ]
  },
  {
   "cell_type": "code",
   "execution_count": 26,
   "metadata": {},
   "outputs": [],
   "source": [
    "#function for weighted box fusion\n",
    "def perform_wbf(pred_confs_models,pred_boxes_models,pred_classes_models):\n",
    "    wbf_boxes_dict=dict()\n",
    "    wbf_scores_dict=dict()\n",
    "\n",
    "    for image_id in test_ids:\n",
    "        if '_' not in image_id:\n",
    "            res_array=np.array([1024,1024,1024,1024]) #1024X1024 images\n",
    "\n",
    "            all_model_boxes=[]\n",
    "            all_model_scores=[]\n",
    "            all_model_classes=[]\n",
    "\n",
    "            for boxes,scores,classes in zip(pred_boxes_models,pred_confs_models,pred_classes_models):\n",
    "                pred_boxes_norm=(boxes[image_id]/res_array).clip(min=0.,max=1.)\n",
    "                scores_model=scores[image_id]\n",
    "                classes_model=classes[image_id]\n",
    "\n",
    "                all_model_boxes.append(pred_boxes_norm)\n",
    "                all_model_scores.append(scores_model)\n",
    "                all_model_classes.append(classes_model)\n",
    "            \n",
    "            boxes,scores,labels=weighted_boxes_fusion(all_model_boxes,all_model_scores,all_model_classes,weights=None,iou_thr=0.5,skip_box_thr=0.30)\n",
    "\n",
    "            final_score_ids=np.where(scores>0.28)[0]\n",
    "            final_boxes=boxes[final_score_ids]\n",
    "            final_scores=scores[final_score_ids]\n",
    "\n",
    "            final_boxes=(final_boxes*res_array).clip(min=[0,0,0,0],max=[1023,1023,1023,1023])\n",
    "\n",
    "            final_boxes=final_boxes.astype(\"int\")\n",
    "\n",
    "            final_boxes[:,2:]=final_boxes[:,2:]-final_boxes[:,:2]\n",
    "            wbf_boxes_dict[image_id]=final_boxes.tolist()\n",
    "            wbf_scores_dict[image_id]=np.expand_dims(np.round(final_scores,5),axis=-1).tolist()\n",
    "    \n",
    "    return wbf_boxes_dict,wbf_scores_dict\n",
    "\n",
    "\n",
    "        "
   ]
  },
  {
   "cell_type": "code",
   "execution_count": 27,
   "metadata": {},
   "outputs": [
    {
     "ename": "KeyError",
     "evalue": "'._016a57e698b8269cf00038b580d06f8996702edc893a24c2e8f62005f580ad6e.png'",
     "output_type": "error",
     "traceback": [
      "\u001b[0;31m---------------------------------------------------------------------------\u001b[0m",
      "\u001b[0;31mKeyError\u001b[0m                                  Traceback (most recent call last)",
      "\u001b[1;32m/Users/smudge/Desktop/Code/research/box-fusion/fusion.ipynb Cell 8\u001b[0m line \u001b[0;36m1\n\u001b[0;32m----> <a href='vscode-notebook-cell:/Users/smudge/Desktop/Code/research/box-fusion/fusion.ipynb#X15sZmlsZQ%3D%3D?line=0'>1</a>\u001b[0m boxes_dict_wbf,scores_dict_wbf\u001b[39m=\u001b[39mperform_wbf(pred_confs,pred_boxes,pred_classes)\n",
      "\u001b[1;32m/Users/smudge/Desktop/Code/research/box-fusion/fusion.ipynb Cell 8\u001b[0m line \u001b[0;36m1\n\u001b[1;32m     <a href='vscode-notebook-cell:/Users/smudge/Desktop/Code/research/box-fusion/fusion.ipynb#X15sZmlsZQ%3D%3D?line=10'>11</a>\u001b[0m all_model_classes\u001b[39m=\u001b[39m[]\n\u001b[1;32m     <a href='vscode-notebook-cell:/Users/smudge/Desktop/Code/research/box-fusion/fusion.ipynb#X15sZmlsZQ%3D%3D?line=12'>13</a>\u001b[0m \u001b[39mfor\u001b[39;00m boxes,scores,classes \u001b[39min\u001b[39;00m \u001b[39mzip\u001b[39m(pred_boxes_models,pred_confs_models,pred_classes_models):\n\u001b[0;32m---> <a href='vscode-notebook-cell:/Users/smudge/Desktop/Code/research/box-fusion/fusion.ipynb#X15sZmlsZQ%3D%3D?line=13'>14</a>\u001b[0m     pred_boxes_norm\u001b[39m=\u001b[39m(boxes[image_id]\u001b[39m/\u001b[39mres_array)\u001b[39m.\u001b[39mclip(\u001b[39mmin\u001b[39m\u001b[39m=\u001b[39m\u001b[39m0.\u001b[39m,\u001b[39mmax\u001b[39m\u001b[39m=\u001b[39m\u001b[39m1.\u001b[39m)\n\u001b[1;32m     <a href='vscode-notebook-cell:/Users/smudge/Desktop/Code/research/box-fusion/fusion.ipynb#X15sZmlsZQ%3D%3D?line=14'>15</a>\u001b[0m     scores_model\u001b[39m=\u001b[39mscores[image_id]\n\u001b[1;32m     <a href='vscode-notebook-cell:/Users/smudge/Desktop/Code/research/box-fusion/fusion.ipynb#X15sZmlsZQ%3D%3D?line=15'>16</a>\u001b[0m     classes_model\u001b[39m=\u001b[39mclasses[image_id]\n",
      "\u001b[0;31mKeyError\u001b[0m: '._016a57e698b8269cf00038b580d06f8996702edc893a24c2e8f62005f580ad6e.png'"
     ]
    }
   ],
   "source": [
    "boxes_dict_wbf,scores_dict_wbf=perform_wbf(pred_confs,pred_boxes,pred_classes)"
   ]
  },
  {
   "cell_type": "code",
   "execution_count": null,
   "metadata": {},
   "outputs": [],
   "source": []
  }
 ],
 "metadata": {
  "kernelspec": {
   "display_name": ".venv",
   "language": "python",
   "name": "python3"
  },
  "language_info": {
   "codemirror_mode": {
    "name": "ipython",
    "version": 3
   },
   "file_extension": ".py",
   "mimetype": "text/x-python",
   "name": "python",
   "nbconvert_exporter": "python",
   "pygments_lexer": "ipython3",
   "version": "3.11.4"
  }
 },
 "nbformat": 4,
 "nbformat_minor": 2
}
