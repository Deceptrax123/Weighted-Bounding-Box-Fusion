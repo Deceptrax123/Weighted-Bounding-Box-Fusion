{
 "cells": [
  {
   "cell_type": "code",
   "execution_count": 24,
   "metadata": {},
   "outputs": [],
   "source": [
    "#Part of code taken from https://learnopencv.com/weighted-boxes-fusion/\n",
    "\n",
    "import torch \n",
    "import cv2 \n",
    "import numpy as np \n",
    "import pandas as pd \n",
    "import matplotlib.pyplot as plt \n",
    "from PIL import Image\n",
    "import os\n",
    "from ensemble_boxes import *\n",
    "from dotenv import load_dotenv"
   ]
  },
  {
   "cell_type": "code",
   "execution_count": 25,
   "metadata": {},
   "outputs": [
    {
     "name": "stderr",
     "output_type": "stream",
     "text": [
      "Using cache found in /Users/smudge/.cache/torch/hub/ultralytics_yolov5_master\n",
      "YOLOv5 🚀 2023-9-28 Python-3.11.4 torch-2.1.0 CPU\n",
      "\n",
      "Fusing layers... \n",
      "YOLOv5s summary: 157 layers, 7015519 parameters, 0 gradients, 15.8 GFLOPs\n",
      "Adding AutoShape... \n"
     ]
    }
   ],
   "source": [
    "model=torch.hub.load(\"ultralytics/yolov5\",'custom',path='best_yolov5_weights.pt',device='cpu')\n"
   ]
  },
  {
   "cell_type": "code",
   "execution_count": 26,
   "metadata": {},
   "outputs": [],
   "source": [
    "#set the env variables\n",
    "load_dotenv('./.env')\n",
    "PATH_TO_TEST=os.getenv(\"PATH_TO_TEST\")\n",
    "PATH_TO_INPAINT=os.getenv(\"PATH_TO_INPAINT\")\n",
    "PATH_TO_AUTO=os.getenv(\"PATH_TO_AUTO\")\n"
   ]
  },
  {
   "cell_type": "code",
   "execution_count": 27,
   "metadata": {},
   "outputs": [],
   "source": [
    "#Get the image ids\n",
    "test_ids=os.listdir(PATH_TO_TEST)\n",
    "inpaint_ids=os.listdir(PATH_TO_INPAINT)\n",
    "auto_ids=os.listdir(PATH_TO_AUTO)"
   ]
  },
  {
   "cell_type": "code",
   "execution_count": 28,
   "metadata": {},
   "outputs": [],
   "source": [
    "#get the predictions\n",
    "model.conf=0.35\n",
    "\n",
    "def get_predictions(img_names,path):\n",
    "    pred_scores=dict()\n",
    "    pred_boxes=dict()\n",
    "    pred_classes=dict()\n",
    "\n",
    "    for img in img_names:\n",
    "        if '_' not in img:\n",
    "            img_path=path+img\n",
    "\n",
    "            prediction=model(img_path,size=1024)\n",
    "\n",
    "            pred_scores[img]=prediction.xyxy[0][:,4].detach().numpy()\n",
    "            pred_boxes[img]=prediction.xyxy[0][:,0:4].detach().numpy()\n",
    "            pred_classes[img]=prediction.xyxy[0][:,5].detach().numpy()\n",
    "    \n",
    "    return pred_scores,pred_boxes,pred_classes"
   ]
  },
  {
   "cell_type": "code",
   "execution_count": 30,
   "metadata": {},
   "outputs": [],
   "source": [
    "#get predictions for different test sets\n",
    "\n",
    "pred_confs=[]\n",
    "pred_boxes=[]\n",
    "pred_classes=[]\n",
    "\n",
    "test_paths=[PATH_TO_TEST,PATH_TO_INPAINT,PATH_TO_AUTO]\n",
    "test_imgids=[test_ids,inpaint_ids,auto_ids]\n",
    "\n",
    "for i in range(3):\n",
    "    confs_scores,box_preds,cls_pred=get_predictions(test_imgids[i],test_paths[i])\n",
    "\n",
    "    pred_confs.append(confs_scores)\n",
    "    pred_boxes.append(box_preds)\n",
    "    pred_classes.append(cls_pred)"
   ]
  },
  {
   "cell_type": "code",
   "execution_count": 32,
   "metadata": {},
   "outputs": [],
   "source": [
    "#function for weighted box fusion\n",
    "def perform_wbf(pred_confs_models,pred_boxes_models,pred_classes_models):\n",
    "    wbf_boxes_dict=dict()\n",
    "    wbf_scores_dict=dict()\n",
    "\n",
    "    for image_id in test_ids:\n",
    "        if '_' not in image_id:\n",
    "            res_array=np.array([1024,1024,1024,1024]) #1024X1024 images\n",
    "\n",
    "            all_model_boxes=[]\n",
    "            all_model_scores=[]\n",
    "            all_model_classes=[]\n",
    "\n",
    "            for boxes,scores,classes in zip(pred_boxes_models,pred_confs_models,pred_classes_models):\n",
    "                pred_boxes_norm=(boxes[image_id]/res_array).clip(min=0.,max=1.)\n",
    "                scores_model=scores[image_id]\n",
    "                classes_model=classes[image_id]\n",
    "\n",
    "                all_model_boxes.append(pred_boxes_norm)\n",
    "                all_model_scores.append(scores_model)\n",
    "                all_model_classes.append(classes_model)\n",
    "            \n",
    "            boxes,scores,labels=weighted_boxes_fusion(all_model_boxes,all_model_scores,all_model_classes,weights=None,iou_thr=0.5,skip_box_thr=0.35)\n",
    "\n",
    "            final_score_ids=np.where(scores>0.32)[0]\n",
    "            final_boxes=boxes[final_score_ids]\n",
    "            final_scores=scores[final_score_ids]\n",
    "\n",
    "            final_boxes=(final_boxes*res_array).clip(min=[0,0,0,0],max=[1023,1023,1023,1023])\n",
    "\n",
    "            final_boxes=final_boxes.astype(\"int\")\n",
    "\n",
    "            final_boxes[:,2:]=final_boxes[:,2:]-final_boxes[:,:2]\n",
    "            wbf_boxes_dict[image_id]=final_boxes.tolist()\n",
    "            wbf_scores_dict[image_id]=np.expand_dims(np.round(final_scores,5),axis=-1).tolist()\n",
    "    \n",
    "    return wbf_boxes_dict,wbf_scores_dict\n",
    "\n",
    "\n",
    "        "
   ]
  },
  {
   "cell_type": "code",
   "execution_count": 33,
   "metadata": {},
   "outputs": [],
   "source": [
    "boxes_dict_wbf,scores_dict_wbf=perform_wbf(pred_confs,pred_boxes,pred_classes)"
   ]
  },
  {
   "cell_type": "code",
   "execution_count": 34,
   "metadata": {},
   "outputs": [],
   "source": [
    "#save outputs to csv file\n",
    "\n",
    "boxes=list()\n",
    "ids=list()\n",
    "scores=list()\n",
    "for i in boxes_dict_wbf.keys():\n",
    "    boxes.append(boxes_dict_wbf[i])\n",
    "    ids.append(i)\n",
    "    scores.append(scores_dict_wbf[i])\n",
    "\n",
    "df=pd.DataFrame({\n",
    "    'image_id':ids,\n",
    "    'boxes':boxes,\n",
    "    'scores':scores\n",
    "})\n",
    "\n",
    "df.to_csv(\"./Results/test_inpaint_auto_conf_0.35.csv\")"
   ]
  },
  {
   "cell_type": "code",
   "execution_count": null,
   "metadata": {},
   "outputs": [],
   "source": []
  }
 ],
 "metadata": {
  "kernelspec": {
   "display_name": ".venv",
   "language": "python",
   "name": "python3"
  },
  "language_info": {
   "codemirror_mode": {
    "name": "ipython",
    "version": 3
   },
   "file_extension": ".py",
   "mimetype": "text/x-python",
   "name": "python",
   "nbconvert_exporter": "python",
   "pygments_lexer": "ipython3",
   "version": "3.11.4"
  }
 },
 "nbformat": 4,
 "nbformat_minor": 2
}
